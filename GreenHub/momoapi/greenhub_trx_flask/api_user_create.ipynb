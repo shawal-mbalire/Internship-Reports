{
 "cells": [
  {
   "cell_type": "code",
   "execution_count": 1,
   "metadata": {},
   "outputs": [],
   "source": [
    "import requests\n",
    "import dotenv\n",
    "import os"
   ]
  },
  {
   "cell_type": "code",
   "execution_count": 2,
   "metadata": {},
   "outputs": [
    {
     "data": {
      "text/plain": [
       "True"
      ]
     },
     "execution_count": 2,
     "metadata": {},
     "output_type": "execute_result"
    }
   ],
   "source": [
    "dotenv.load_dotenv()"
   ]
  },
  {
   "cell_type": "code",
   "execution_count": 3,
   "metadata": {},
   "outputs": [],
   "source": [
    "subscription_key = os.getenv('COLLECTIONS_PRIMARY_KEY')\n",
    "user_id = os.getenv('MTN_USER_ID')"
   ]
  },
  {
   "cell_type": "code",
   "execution_count": 4,
   "metadata": {},
   "outputs": [],
   "source": [
    "# user_id = str(uuid.uuid4())\n",
    "# user_id = '7cc53f52-5744-4071-a6a7-53437c575063'\n",
    "create_user_endpoint  = 'https://sandbox.momodeveloper.mtn.com/v1_0/apiuser'\n",
    "get_user_endpoint     = f'https://sandbox.momodeveloper.mtn.com/v1_0/apiuser/{user_id}'\n",
    "user_apikey_endpoint  = f'https://sandbox.momodeveloper.mtn.com/v1_0/apiuser/{user_id}/apikey'"
   ]
  },
  {
   "cell_type": "code",
   "execution_count": 5,
   "metadata": {},
   "outputs": [
    {
     "name": "stdout",
     "output_type": "stream",
     "text": [
      "Code: 500\n"
     ]
    }
   ],
   "source": [
    "# post request to create the user\n",
    "response = requests.post(\n",
    "    url = create_user_endpoint, \n",
    "    headers = {\n",
    "        'X-Reference-Id': user_id, \n",
    "        'Content-Type':'application/json',\n",
    "        'Cache-Control':'no-cache',\n",
    "        'Ocp-Apim-Subscription-Key':f'{subscription_key}',\n",
    "    },\n",
    "    data = {\n",
    "        \"providerCallbackHost\":\"string\"\n",
    "    },\n",
    ")\n",
    "# print('Content:', response.content)\n",
    "print('Code:',response.status_code)"
   ]
  },
  {
   "cell_type": "markdown",
   "metadata": {},
   "source": [
    "# creating user had to be done online\n"
   ]
  },
  {
   "cell_type": "code",
   "execution_count": 5,
   "metadata": {},
   "outputs": [
    {
     "name": "stdout",
     "output_type": "stream",
     "text": [
      "Content: b'{\"providerCallbackHost\":\"string\",\"targetEnvironment\":\"sandbox\"}'\n",
      "Code: 200\n"
     ]
    }
   ],
   "source": [
    "\n",
    "# get request to get the user\n",
    "response = requests.get(\n",
    "    get_user_endpoint, \n",
    "    headers = {\n",
    "        'X-Reference-Id': user_id, \n",
    "        'Content-Type':'application/json',\n",
    "        'Cache-Control':'no-cache',\n",
    "        'Ocp-Apim-Subscription-Key':f'{subscription_key}',\n",
    "    },\n",
    "    data = {\n",
    "        \"providerCallbackHost\":\"string\"\n",
    "    },\n",
    ")\n",
    "print('Content:', response.content)\n",
    "print('Code:',response.status_code)"
   ]
  },
  {
   "cell_type": "code",
   "execution_count": 6,
   "metadata": {},
   "outputs": [
    {
     "name": "stdout",
     "output_type": "stream",
     "text": [
      "Content: b'{\"apiKey\":\"ae100c1c501e4c6e99046453595029e5\"}'\n",
      "Code: 201\n"
     ]
    }
   ],
   "source": [
    "# post request to get the user api key\n",
    "response = requests.post(\n",
    "    user_apikey_endpoint, \n",
    "    headers = {\n",
    "        'X-Reference-Id': user_id, \n",
    "        'Content-Type':'application/json',\n",
    "        'Cache-Control':'no-cache',\n",
    "        'Ocp-Apim-Subscription-Key':f'{subscription_key}',\n",
    "    },\n",
    "    data = {\n",
    "        \"providerCallbackHost\":\"string\"\n",
    "    },\n",
    ")\n",
    "print('Content:', response.content)\n",
    "print('Code:',response.status_code)"
   ]
  }
 ],
 "metadata": {
  "kernelspec": {
   "display_name": ".venv",
   "language": "python",
   "name": "python3"
  },
  "language_info": {
   "codemirror_mode": {
    "name": "ipython",
    "version": 3
   },
   "file_extension": ".py",
   "mimetype": "text/x-python",
   "name": "python",
   "nbconvert_exporter": "python",
   "pygments_lexer": "ipython3",
   "version": "3.12.2"
  }
 },
 "nbformat": 4,
 "nbformat_minor": 2
}
