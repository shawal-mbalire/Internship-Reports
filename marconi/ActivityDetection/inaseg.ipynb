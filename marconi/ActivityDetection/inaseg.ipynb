{
 "cells": [
  {
   "cell_type": "code",
   "execution_count": 1,
   "metadata": {},
   "outputs": [],
   "source": [
    "# testing audio from radio\n",
    "import requests\n",
    "audio_url       = \"https://storage.googleapis.com/radiofilez/english/sunday/cp_91_3-2022-11-27_T06.00.01.mp3\"\n",
    "audio_file_path = \"downloaded_audio.mp3\"\n",
    "# def download_audio(url:str,dest_path:str, verbose:bool=False):\n",
    "#     response = requests.get(url, allow_redirects=True)\n",
    "#     if response.status_code == 200:\n",
    "#         with open(dest_path, 'wb') as f: f.write(response.content)\n",
    "#         if verbose:print(\"Audio downloaded SuccessFuly\")\n",
    "#         return True\n",
    "#     if verbose:print(\"Audio has not downloaded\")\n",
    "#     return False\n",
    "# download_audio(\n",
    "#     url=audio_url,\n",
    "#     dest_path=audio_file_path,\n",
    "#     verbose=True\n",
    "# )"
   ]
  },
  {
   "cell_type": "code",
   "execution_count": 2,
   "metadata": {},
   "outputs": [
    {
     "name": "stderr",
     "output_type": "stream",
     "text": [
      "2024-03-21 13:51:12.239189: I tensorflow/core/platform/cpu_feature_guard.cc:210] This TensorFlow binary is optimized to use available CPU instructions in performance-critical operations.\n",
      "To enable the following instructions: AVX2 FMA, in other operations, rebuild TensorFlow with the appropriate compiler flags.\n",
      "2024-03-21 13:51:24.944665: W tensorflow/compiler/tf2tensorrt/utils/py_utils.cc:38] TF-TRT Warning: Could not find TensorRT\n",
      "/home/shawal/GitHub/Internship-Reports/marconi/ActivityDetection/.venv/lib/python3.11/site-packages/keras/src/layers/reshaping/reshape.py:39: UserWarning: Do not pass an `input_shape`/`input_dim` argument to a layer. When using Sequential models, prefer using an `Input(shape)` object as the first layer in the model instead.\n",
      "  super().__init__(**kwargs)\n",
      "WARNING:absl:No training configuration found in the save file, so the model was *not* compiled. Compile it manually.\n",
      "WARNING:absl:No training configuration found in the save file, so the model was *not* compiled. Compile it manually.\n",
      "/home/shawal/GitHub/Internship-Reports/marconi/ActivityDetection/.venv/lib/python3.11/site-packages/inaSpeechSegmenter/segmenter.py:80: RuntimeWarning: invalid value encountered in subtract\n",
      "  data = (data - np.mean(data, axis=1).reshape((len(data), 1))) / np.std(data, axis=1).reshape((len(data), 1))\n",
      "/home/shawal/GitHub/Internship-Reports/marconi/ActivityDetection/.venv/lib/python3.11/site-packages/numpy/core/_methods.py:173: RuntimeWarning: invalid value encountered in subtract\n",
      "  x = asanyarray(arr - arrmean)\n",
      "2024-03-21 13:52:20.314247: W external/local_tsl/tsl/framework/cpu_allocator_impl.cc:83] Allocation of 1023710352 exceeds 10% of free system memory.\n"
     ]
    },
    {
     "name": "stdout",
     "output_type": "stream",
     "text": [
      "5601/5601 - 105s - 19ms/step\n",
      "374/374 - 31s - 82ms/step\n"
     ]
    },
    {
     "data": {
      "text/plain": [
       "[('noise', 0.0, 5.4),\n",
       " ('music', 5.4, 204.78),\n",
       " ('male', 204.78, 207.20000000000002),\n",
       " ('noEnergy', 207.20000000000002, 207.88),\n",
       " ('noise', 207.88, 208.14000000000001),\n",
       " ('noEnergy', 208.14000000000001, 209.12),\n",
       " ('noise', 209.12, 209.68),\n",
       " ('noEnergy', 209.68, 210.34),\n",
       " ('music', 210.34, 372.48),\n",
       " ('female', 372.48, 375.40000000000003),\n",
       " ('music', 375.40000000000003, 945.46),\n",
       " ('male', 945.46, 953.5),\n",
       " ('noEnergy', 953.5, 954.22),\n",
       " ('music', 954.22, 1191.88),\n",
       " ('noEnergy', 1191.88, 1192.3600000000001),\n",
       " ('music', 1192.3600000000001, 1563.98),\n",
       " ('noise', 1563.98, 1567.44),\n",
       " ('music', 1567.44, 1579.52),\n",
       " ('noise', 1579.52, 1588.9),\n",
       " ('music', 1588.9, 1590.24),\n",
       " ('noise', 1590.24, 1604.16),\n",
       " ('music', 1604.16, 1704.6200000000001),\n",
       " ('noise', 1704.6200000000001, 1716.6000000000001),\n",
       " ('music', 1716.6000000000001, 1719.3),\n",
       " ('noEnergy', 1719.3, 1720.76),\n",
       " ('noise', 1720.76, 1722.24),\n",
       " ('noEnergy', 1722.24, 1723.08),\n",
       " ('noise', 1723.08, 1725.1200000000001),\n",
       " ('noEnergy', 1725.1200000000001, 1725.94),\n",
       " ('music', 1725.94, 1750.06),\n",
       " ('noEnergy', 1750.06, 1750.54),\n",
       " ('female', 1750.54, 1751.8),\n",
       " ('music', 1751.8, 1761.48),\n",
       " ('noEnergy', 1761.48, 1762.0),\n",
       " ('music', 1762.0, 1979.46),\n",
       " ('male', 1979.46, 1985.22),\n",
       " ('noEnergy', 1985.22, 1989.4),\n",
       " ('music', 1989.4, 2265.52),\n",
       " ('noise', 2265.52, 2268.6),\n",
       " ('male', 2268.6, 2290.64),\n",
       " ('female', 2290.64, 2292.12),\n",
       " ('male', 2292.12, 2301.28),\n",
       " ('noEnergy', 2301.28, 2302.4),\n",
       " ('music', 2302.4, 2306.84),\n",
       " ('male', 2306.84, 2317.4),\n",
       " ('music', 2317.4, 2323.76),\n",
       " ('male', 2323.76, 2328.38),\n",
       " ('music', 2328.38, 2334.78),\n",
       " ('female', 2334.78, 2355.1),\n",
       " ('male', 2355.1, 2373.5),\n",
       " ('noise', 2373.5, 2375.04),\n",
       " ('noEnergy', 2375.04, 2375.58),\n",
       " ('music', 2375.58, 2552.98),\n",
       " ('noEnergy', 2552.98, 2553.46),\n",
       " ('music', 2553.46, 2624.28),\n",
       " ('noise', 2624.28, 2626.62),\n",
       " ('noEnergy', 2626.62, 2632.4),\n",
       " ('music', 2632.4, 2693.28),\n",
       " ('noise', 2693.28, 2699.54),\n",
       " ('music', 2699.54, 2740.34),\n",
       " ('noise', 2740.34, 2743.78),\n",
       " ('music', 2743.78, 2787.44),\n",
       " ('noise', 2787.44, 2794.32),\n",
       " ('music', 2794.32, 2796.26),\n",
       " ('noise', 2796.26, 2798.12),\n",
       " ('music', 2798.12, 2800.96),\n",
       " ('noise', 2800.96, 2804.2200000000003),\n",
       " ('music', 2804.2200000000003, 2908.1),\n",
       " ('male', 2908.1, 2916.56),\n",
       " ('noEnergy', 2916.56, 2917.26),\n",
       " ('music', 2917.26, 3101.1),\n",
       " ('noise', 3101.1, 3105.7200000000003),\n",
       " ('music', 3105.7200000000003, 3113.26),\n",
       " ('noise', 3113.26, 3119.58),\n",
       " ('music', 3119.58, 3165.98),\n",
       " ('noise', 3165.98, 3171.36),\n",
       " ('music', 3171.36, 3181.66),\n",
       " ('noise', 3181.66, 3185.38),\n",
       " ('music', 3185.38, 3194.04),\n",
       " ('male', 3194.04, 3231.88),\n",
       " ('noEnergy', 3231.88, 3232.56),\n",
       " ('male', 3232.56, 3239.52),\n",
       " ('noEnergy', 3239.52, 3240.1),\n",
       " ('male', 3240.1, 3262.96),\n",
       " ('music', 3262.96, 3544.42),\n",
       " ('male', 3544.42, 3579.66),\n",
       " ('noEnergy', 3579.66, 3580.06),\n",
       " ('male', 3580.06, 3600.52),\n",
       " ('music', 3600.52, 3606.52)]"
      ]
     },
     "execution_count": 2,
     "metadata": {},
     "output_type": "execute_result"
    }
   ],
   "source": [
    "\n",
    "# Load the API\n",
    "from inaSpeechSegmenter import Segmenter\n",
    "\n",
    "seg = Segmenter()\n",
    "segmentation = seg(audio_file_path)\n",
    "segmentation"
   ]
  },
  {
   "cell_type": "code",
   "execution_count": null,
   "metadata": {},
   "outputs": [],
   "source": []
  },
  {
   "cell_type": "code",
   "execution_count": null,
   "metadata": {},
   "outputs": [],
   "source": []
  },
  {
   "cell_type": "code",
   "execution_count": null,
   "metadata": {},
   "outputs": [],
   "source": []
  }
 ],
 "metadata": {
  "kernelspec": {
   "display_name": ".venv",
   "language": "python",
   "name": "python3"
  },
  "language_info": {
   "codemirror_mode": {
    "name": "ipython",
    "version": 3
   },
   "file_extension": ".py",
   "mimetype": "text/x-python",
   "name": "python",
   "nbconvert_exporter": "python",
   "pygments_lexer": "ipython3",
   "version": "3.11.8"
  }
 },
 "nbformat": 4,
 "nbformat_minor": 2
}
