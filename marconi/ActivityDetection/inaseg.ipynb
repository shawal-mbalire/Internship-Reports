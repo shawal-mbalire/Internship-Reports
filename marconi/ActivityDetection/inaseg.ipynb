{
 "cells": [
  {
   "cell_type": "code",
   "execution_count": 1,
   "metadata": {},
   "outputs": [
    {
     "name": "stderr",
     "output_type": "stream",
     "text": [
      "2024-03-26 17:18:26.401304: I tensorflow/core/platform/cpu_feature_guard.cc:210] This TensorFlow binary is optimized to use available CPU instructions in performance-critical operations.\n",
      "To enable the following instructions: AVX2 FMA, in other operations, rebuild TensorFlow with the appropriate compiler flags.\n",
      "2024-03-26 17:18:36.830617: W tensorflow/compiler/tf2tensorrt/utils/py_utils.cc:38] TF-TRT Warning: Could not find TensorRT\n"
     ]
    }
   ],
   "source": [
    "import requests\n",
    "from inaSpeechSegmenter import Segmenter"
   ]
  },
  {
   "cell_type": "code",
   "execution_count": 2,
   "metadata": {},
   "outputs": [],
   "source": [
    "audio_url_1     = \"https://storage.googleapis.com/radiofilez/english/sunday/cp_91_3-2022-11-27_T06.00.01.mp3\"\n",
    "audio_url_2     = \"https://storage.googleapis.com/radiofilez/english/saturday/kfm_93_3-2022-11-26_T11.00.01.mp3\"\n",
    "audio_file_path_1 = \"capitalfm.mp3\"\n",
    "audio_file_path_2 = \"kfm.mp3\"\n",
    "\n",
    "def download_audio(url:str,dest_path:str, verbose:bool=False):\n",
    "    response = requests.get(url, allow_redirects=True)\n",
    "    if response.status_code == 200:\n",
    "        with open(dest_path, 'wb') as f: f.write(response.content)\n",
    "        if verbose:print(\"Audio downloaded SuccessFuly\")\n",
    "        return True\n",
    "    if verbose:print(\"Audio has not downloaded\")\n",
    "    return False\n"
   ]
  },
  {
   "cell_type": "code",
   "execution_count": 3,
   "metadata": {},
   "outputs": [],
   "source": [
    "# download_audio(url=audio_url_1,dest_path=audio_file_path_1,verbose=True)\n",
    "# download_audio(url=audio_url_2,dest_path=audio_file_path_2,verbose=True)"
   ]
  },
  {
   "cell_type": "code",
   "execution_count": 4,
   "metadata": {},
   "outputs": [
    {
     "name": "stderr",
     "output_type": "stream",
     "text": [
      "/home/shawal/GitHub/Internship-Reports/marconi/ActivityDetection/.venv/lib/python3.11/site-packages/keras/src/layers/reshaping/reshape.py:39: UserWarning: Do not pass an `input_shape`/`input_dim` argument to a layer. When using Sequential models, prefer using an `Input(shape)` object as the first layer in the model instead.\n",
      "  super().__init__(**kwargs)\n",
      "WARNING:absl:No training configuration found in the save file, so the model was *not* compiled. Compile it manually.\n",
      "WARNING:absl:No training configuration found in the save file, so the model was *not* compiled. Compile it manually.\n",
      "/home/shawal/GitHub/Internship-Reports/marconi/ActivityDetection/.venv/lib/python3.11/site-packages/inaSpeechSegmenter/segmenter.py:80: RuntimeWarning: invalid value encountered in subtract\n",
      "  data = (data - np.mean(data, axis=1).reshape((len(data), 1))) / np.std(data, axis=1).reshape((len(data), 1))\n",
      "/home/shawal/GitHub/Internship-Reports/marconi/ActivityDetection/.venv/lib/python3.11/site-packages/numpy/core/_methods.py:173: RuntimeWarning: invalid value encountered in subtract\n",
      "  x = asanyarray(arr - arrmean)\n",
      "2024-03-26 17:19:44.844643: W external/local_tsl/tsl/framework/cpu_allocator_impl.cc:83] Allocation of 1023710352 exceeds 10% of free system memory.\n"
     ]
    },
    {
     "name": "stdout",
     "output_type": "stream",
     "text": [
      "5601/5601 - 103s - 18ms/step\n"
     ]
    },
    {
     "name": "stderr",
     "output_type": "stream",
     "text": [
      "2024-03-26 17:21:38.731701: W external/local_tsl/tsl/framework/cpu_allocator_impl.cc:83] Allocation of 77944320 exceeds 10% of free system memory.\n"
     ]
    },
    {
     "name": "stdout",
     "output_type": "stream",
     "text": [
      "374/374 - 28s - 75ms/step\n"
     ]
    },
    {
     "name": "stderr",
     "output_type": "stream",
     "text": [
      "/home/shawal/GitHub/Internship-Reports/marconi/ActivityDetection/.venv/lib/python3.11/site-packages/inaSpeechSegmenter/segmenter.py:80: RuntimeWarning: invalid value encountered in subtract\n",
      "  data = (data - np.mean(data, axis=1).reshape((len(data), 1))) / np.std(data, axis=1).reshape((len(data), 1))\n",
      "/home/shawal/GitHub/Internship-Reports/marconi/ActivityDetection/.venv/lib/python3.11/site-packages/numpy/core/_methods.py:173: RuntimeWarning: invalid value encountered in subtract\n",
      "  x = asanyarray(arr - arrmean)\n",
      "2024-03-26 17:23:19.936212: W external/local_tsl/tsl/framework/cpu_allocator_impl.cc:83] Allocation of 1018546704 exceeds 10% of free system memory.\n"
     ]
    },
    {
     "name": "stdout",
     "output_type": "stream",
     "text": [
      "5573/5573 - 116s - 21ms/step\n"
     ]
    },
    {
     "name": "stderr",
     "output_type": "stream",
     "text": [
      "2024-03-26 17:25:55.628166: W external/local_tsl/tsl/framework/cpu_allocator_impl.cc:83] Allocation of 1018387584 exceeds 10% of free system memory.\n"
     ]
    },
    {
     "name": "stdout",
     "output_type": "stream",
     "text": [
      "4876/4876 - 390s - 80ms/step\n"
     ]
    }
   ],
   "source": [
    "seg = Segmenter()\n",
    "segmentation1 = seg(audio_file_path_1)\n",
    "segmentation2 = seg(audio_file_path_2)\n"
   ]
  },
  {
   "cell_type": "code",
   "execution_count": null,
   "metadata": {},
   "outputs": [],
   "source": []
  },
  {
   "cell_type": "code",
   "execution_count": null,
   "metadata": {},
   "outputs": [],
   "source": []
  }
 ],
 "metadata": {
  "kernelspec": {
   "display_name": ".venv",
   "language": "python",
   "name": "python3"
  },
  "language_info": {
   "codemirror_mode": {
    "name": "ipython",
    "version": 3
   },
   "file_extension": ".py",
   "mimetype": "text/x-python",
   "name": "python",
   "nbconvert_exporter": "python",
   "pygments_lexer": "ipython3",
   "version": "3.11.8"
  }
 },
 "nbformat": 4,
 "nbformat_minor": 2
}
