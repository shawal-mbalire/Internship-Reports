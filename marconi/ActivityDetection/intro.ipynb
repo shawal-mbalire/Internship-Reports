{
 "cells": [
  {
   "cell_type": "code",
   "execution_count": 26,
   "metadata": {},
   "outputs": [],
   "source": [
    "# pvcobra is a paid software thus not considered\n",
    "import vad\n",
    "import wave\n",
    "import torchaudio\n",
    "from vad.energy_vad import EnergyVAD"
   ]
  },
  {
   "cell_type": "code",
   "execution_count": 25,
   "metadata": {},
   "outputs": [],
   "source": [
    "# load audio file in \"audio\" variable\n",
    "\n",
    "vad1 = EnergyVAD(\n",
    "    sample_rate = 16000,\n",
    "    frame_length = 25,\n",
    "    frame_shift = 20,\n",
    "    energy_threshold = 0.05,\n",
    ")"
   ]
  },
  {
   "cell_type": "code",
   "execution_count": 23,
   "metadata": {},
   "outputs": [
    {
     "data": {
      "text/plain": [
       "_wave_params(nchannels=2, sampwidth=3, framerate=44100, nframes=1408998, comptype='NONE', compname='not compressed')"
      ]
     },
     "execution_count": 23,
     "metadata": {},
     "output_type": "execute_result"
    }
   ],
   "source": [
    "audio = wave.open('example.wav','r')\n",
    "audio.getparams()"
   ]
  },
  {
   "cell_type": "code",
   "execution_count": 27,
   "metadata": {},
   "outputs": [],
   "source": [
    "\n",
    "waveform, sample_rate = torchaudio.load('example.wav')"
   ]
  },
  {
   "cell_type": "code",
   "execution_count": 29,
   "metadata": {},
   "outputs": [
    {
     "data": {
      "text/plain": [
       "array([[ 0.0000000e+00, -1.1920929e-07, -1.1920929e-07, ...,\n",
       "         0.0000000e+00, -1.1920929e-07,  0.0000000e+00],\n",
       "       [ 0.0000000e+00, -1.1920929e-07, -1.1920929e-07, ...,\n",
       "         0.0000000e+00,  0.0000000e+00,  0.0000000e+00]], dtype=float32)"
      ]
     },
     "execution_count": 29,
     "metadata": {},
     "output_type": "execute_result"
    }
   ],
   "source": [
    "waveform.numpy()"
   ]
  },
  {
   "cell_type": "code",
   "execution_count": 30,
   "metadata": {},
   "outputs": [
    {
     "name": "stdout",
     "output_type": "stream",
     "text": [
      "Warning: stereo audio detected, using only the first channel\n",
      "4402\n"
     ]
    }
   ],
   "source": [
    "\n",
    "# Compute VAD\n",
    "vad2 = EnergyVAD()\n",
    "vad_output = vad2(waveform.numpy())\n",
    "\n",
    "# print vad output 10 per line\n",
    "print(len(vad_output))"
   ]
  },
  {
   "cell_type": "code",
   "execution_count": 21,
   "metadata": {},
   "outputs": [
    {
     "ename": "AttributeError",
     "evalue": "'Wave_read' object has no attribute 'ndim'",
     "output_type": "error",
     "traceback": [
      "\u001b[0;31m---------------------------------------------------------------------------\u001b[0m",
      "\u001b[0;31mAttributeError\u001b[0m                            Traceback (most recent call last)",
      "Cell \u001b[0;32mIn[21], line 1\u001b[0m\n\u001b[0;32m----> 1\u001b[0m voice_activity \u001b[38;5;241m=\u001b[39m \u001b[43mvad1\u001b[49m\u001b[43m(\u001b[49m\u001b[43maudio\u001b[49m\u001b[43m)\u001b[49m\n",
      "File \u001b[0;32m~/GitHub/ActivityDetection/.venv/lib/python3.11/site-packages/vad/energy_vad.py:31\u001b[0m, in \u001b[0;36mEnergyVAD.__call__\u001b[0;34m(self, waveform)\u001b[0m\n\u001b[1;32m     22\u001b[0m \u001b[38;5;28;01mdef\u001b[39;00m \u001b[38;5;21m__call__\u001b[39m(\u001b[38;5;28mself\u001b[39m, waveform: np\u001b[38;5;241m.\u001b[39mndarray) \u001b[38;5;241m-\u001b[39m\u001b[38;5;241m>\u001b[39m np\u001b[38;5;241m.\u001b[39mndarray:\n\u001b[1;32m     23\u001b[0m \u001b[38;5;250m    \u001b[39m\u001b[38;5;124;03m'''\u001b[39;00m\n\u001b[1;32m     24\u001b[0m \u001b[38;5;124;03m    Args:\u001b[39;00m\n\u001b[1;32m     25\u001b[0m \u001b[38;5;124;03m        waveform (np.ndarray): input waveform of shape (num_samples,)\u001b[39;00m\n\u001b[0;32m   (...)\u001b[0m\n\u001b[1;32m     28\u001b[0m \u001b[38;5;124;03m        np.ndarray: VAD output of shape (num_frames,)\u001b[39;00m\n\u001b[1;32m     29\u001b[0m \u001b[38;5;124;03m    '''\u001b[39;00m\n\u001b[0;32m---> 31\u001b[0m     new_waveform, is_stereo \u001b[38;5;241m=\u001b[39m \u001b[38;5;28;43mself\u001b[39;49m\u001b[38;5;241;43m.\u001b[39;49m\u001b[43m_convert_to_mono_if_needed\u001b[49m\u001b[43m(\u001b[49m\u001b[43mwaveform\u001b[49m\u001b[43m)\u001b[49m\n\u001b[1;32m     33\u001b[0m     \u001b[38;5;66;03m# Pre-emphasis\u001b[39;00m\n\u001b[1;32m     34\u001b[0m     new_waveform \u001b[38;5;241m=\u001b[39m np\u001b[38;5;241m.\u001b[39mappend(new_waveform[\u001b[38;5;241m0\u001b[39m], new_waveform[\u001b[38;5;241m1\u001b[39m:] \u001b[38;5;241m-\u001b[39m \u001b[38;5;28mself\u001b[39m\u001b[38;5;241m.\u001b[39mpre_emphasis \u001b[38;5;241m*\u001b[39m new_waveform[:\u001b[38;5;241m-\u001b[39m\u001b[38;5;241m1\u001b[39m])\n",
      "File \u001b[0;32m~/GitHub/ActivityDetection/.venv/lib/python3.11/site-packages/vad/energy_vad.py:111\u001b[0m, in \u001b[0;36mEnergyVAD._convert_to_mono_if_needed\u001b[0;34m(self, waveform)\u001b[0m\n\u001b[1;32m    102\u001b[0m \u001b[38;5;28;01mdef\u001b[39;00m \u001b[38;5;21m_convert_to_mono_if_needed\u001b[39m(\u001b[38;5;28mself\u001b[39m, waveform: np\u001b[38;5;241m.\u001b[39mndarray) \u001b[38;5;241m-\u001b[39m\u001b[38;5;241m>\u001b[39m np\u001b[38;5;241m.\u001b[39mndarray:\n\u001b[1;32m    103\u001b[0m \u001b[38;5;250m    \u001b[39m\u001b[38;5;124;03m'''\u001b[39;00m\n\u001b[1;32m    104\u001b[0m \u001b[38;5;124;03m    Args:\u001b[39;00m\n\u001b[1;32m    105\u001b[0m \u001b[38;5;124;03m        waveform (np.ndarray): input waveform of shape (num_samples,)\u001b[39;00m\n\u001b[0;32m   (...)\u001b[0m\n\u001b[1;32m    109\u001b[0m \u001b[38;5;124;03m        bool: True if the signal was stereo, False otherwise\u001b[39;00m\n\u001b[1;32m    110\u001b[0m \u001b[38;5;124;03m    '''\u001b[39;00m\n\u001b[0;32m--> 111\u001b[0m     \u001b[38;5;28;01mif\u001b[39;00m \u001b[43mwaveform\u001b[49m\u001b[38;5;241;43m.\u001b[39;49m\u001b[43mndim\u001b[49m \u001b[38;5;241m==\u001b[39m \u001b[38;5;241m2\u001b[39m \u001b[38;5;129;01mand\u001b[39;00m waveform\u001b[38;5;241m.\u001b[39mshape[\u001b[38;5;241m0\u001b[39m] \u001b[38;5;241m==\u001b[39m \u001b[38;5;241m2\u001b[39m:\n\u001b[1;32m    112\u001b[0m         is_stereo \u001b[38;5;241m=\u001b[39m \u001b[38;5;28;01mTrue\u001b[39;00m\n\u001b[1;32m    113\u001b[0m         \u001b[38;5;28mprint\u001b[39m(\u001b[38;5;124m\"\u001b[39m\u001b[38;5;124mWarning: stereo audio detected, using only the first channel\u001b[39m\u001b[38;5;124m\"\u001b[39m)\n",
      "\u001b[0;31mAttributeError\u001b[0m: 'Wave_read' object has no attribute 'ndim'"
     ]
    }
   ],
   "source": [
    "voice_activity = vad1(\n",
    "    audio\n",
    ")"
   ]
  },
  {
   "cell_type": "code",
   "execution_count": null,
   "metadata": {},
   "outputs": [],
   "source": [
    "\n",
    "speech_signal = vad1.apply_vad(audio)"
   ]
  }
 ],
 "metadata": {
  "kernelspec": {
   "display_name": ".venv",
   "language": "python",
   "name": "python3"
  },
  "language_info": {
   "codemirror_mode": {
    "name": "ipython",
    "version": 3
   },
   "file_extension": ".py",
   "mimetype": "text/x-python",
   "name": "python",
   "nbconvert_exporter": "python",
   "pygments_lexer": "ipython3",
   "version": "3.11.8"
  }
 },
 "nbformat": 4,
 "nbformat_minor": 2
}
